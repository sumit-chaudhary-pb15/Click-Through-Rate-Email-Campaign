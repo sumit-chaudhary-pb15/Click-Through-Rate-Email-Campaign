{
 "cells": [
  {
   "cell_type": "code",
   "execution_count": 1,
   "id": "20371f14",
   "metadata": {
    "ExecuteTime": {
     "end_time": "2022-08-07T12:11:37.924476Z",
     "start_time": "2022-08-07T12:11:35.920530Z"
    }
   },
   "outputs": [],
   "source": [
    "import numpy as np\n",
    "import pandas as pd\n",
    "\n",
    "import seaborn as sns\n",
    "import matplotlib.pyplot as plt\n",
    "\n",
    "from xgboost import XGBRegressor\n",
    "from sklearn.linear_model import LinearRegression\n",
    "from sklearn.metrics import r2_score"
   ]
  },
  {
   "cell_type": "code",
   "execution_count": 2,
   "id": "fbbb64b4",
   "metadata": {
    "ExecuteTime": {
     "end_time": "2022-08-07T12:11:37.954756Z",
     "start_time": "2022-08-07T12:11:37.924476Z"
    }
   },
   "outputs": [],
   "source": [
    "train = pd.read_csv('train.csv')\n",
    "test = pd.read_csv('test.csv')"
   ]
  },
  {
   "cell_type": "code",
   "execution_count": 3,
   "id": "3ca19bf6",
   "metadata": {
    "ExecuteTime": {
     "end_time": "2022-08-07T12:11:37.969810Z",
     "start_time": "2022-08-07T12:11:37.956738Z"
    }
   },
   "outputs": [],
   "source": [
    "def clean_value(value):\n",
    "    if value != 0:\n",
    "        return 1\n",
    "    return 0"
   ]
  },
  {
   "cell_type": "code",
   "execution_count": 4,
   "id": "d498d2e1",
   "metadata": {
    "ExecuteTime": {
     "end_time": "2022-08-07T12:11:37.985784Z",
     "start_time": "2022-08-07T12:11:37.970809Z"
    }
   },
   "outputs": [
    {
     "data": {
      "text/plain": [
       "array([0, 1, 2, 3, 4, 6, 5], dtype=int64)"
      ]
     },
     "execution_count": 4,
     "metadata": {},
     "output_type": "execute_result"
    }
   ],
   "source": [
    "train['is_quote'].unique()"
   ]
  },
  {
   "cell_type": "code",
   "execution_count": 5,
   "id": "4443828b",
   "metadata": {
    "ExecuteTime": {
     "end_time": "2022-08-07T12:11:38.001751Z",
     "start_time": "2022-08-07T12:11:37.986765Z"
    }
   },
   "outputs": [],
   "source": [
    "train['sender'] = train['sender'].map(train['sender'].value_counts().to_dict())\n",
    "train['times_of_day'] = train['times_of_day'].replace({'Morning': 0, 'Noon':1, 'Evening': 2})\n",
    "train['is_image'] = train['is_image'].apply(clean_value)\n",
    "# train['is_emoticons'] = train['is_emoticons'].map(train['is_emoticons'].value_counts().to_dict())\n",
    "train['is_emoticons'] = train['is_emoticons'].apply(clean_value)\n",
    "train['is_price'] = train['is_price'].apply(clean_value)\n",
    "train['is_quote'] = train['is_quote'].apply(clean_value)"
   ]
  },
  {
   "cell_type": "code",
   "execution_count": 6,
   "id": "22978060",
   "metadata": {
    "ExecuteTime": {
     "end_time": "2022-08-07T12:11:38.033640Z",
     "start_time": "2022-08-07T12:11:38.005715Z"
    }
   },
   "outputs": [],
   "source": [
    "dum1=pd.get_dummies(train['sender'],prefix='sender')\n",
    "dum2=pd.get_dummies(train['times_of_day'],prefix='times_of_day')\n",
    "dum3=pd.get_dummies(train['is_image'],prefix='is_image')\n",
    "dum4=pd.get_dummies(train['is_emoticons'],prefix='is_emoticons')\n",
    "dum5=pd.get_dummies(train['is_price'],prefix='is_price')\n",
    "dum6=pd.get_dummies(train['day_of_week'],prefix='day_of_week')\n",
    "dum7=pd.get_dummies(train['is_weekend'],prefix='is_weekend')\n",
    "dum8=pd.get_dummies(train['category'],prefix='category')\n",
    "dum9=pd.get_dummies(train['product'],prefix='product')\n",
    "dum10=pd.get_dummies(train['is_personalised'],prefix='is_personalised')\n",
    "dum11=pd.get_dummies(train['is_quote'],prefix='is_quote')\n",
    "\n",
    "train = pd.concat([train,dum1,dum2,dum3,dum4, dum5, dum6, dum7, dum8, dum9, dum10, dum11],axis=1)"
   ]
  },
  {
   "cell_type": "code",
   "execution_count": 18,
   "id": "b0c61052",
   "metadata": {
    "ExecuteTime": {
     "end_time": "2022-08-07T12:14:29.374277Z",
     "start_time": "2022-08-07T12:14:29.358320Z"
    }
   },
   "outputs": [],
   "source": [
    "test1=pd.get_dummies(train['sender'],prefix='sender')\n",
    "test2=pd.get_dummies(train['times_of_day'],prefix='times_of_day')\n",
    "test3=pd.get_dummies(train['is_image'],prefix='is_image')\n",
    "test4=pd.get_dummies(train['is_emoticons'],prefix='is_emoticons')\n",
    "test5=pd.get_dummies(train['is_price'],prefix='is_price')\n",
    "test6=pd.get_dummies(train['day_of_week'],prefix='day_of_week')\n",
    "test7=pd.get_dummies(train['is_weekend'],prefix='is_weekend')\n",
    "test8=pd.get_dummies(train['category'],prefix='category')\n",
    "test9=pd.get_dummies(train['product'],prefix='product')\n",
    "test10=pd.get_dummies(train['is_personalised'],prefix='is_personalised')\n",
    "test11=pd.get_dummies(train['is_quote'],prefix='is_quote')\n",
    "\n",
    "test = pd.concat([train,test1,test2,test3,test4, test5, test6, test7, test8, test9, test10, test11],axis=1)"
   ]
  },
  {
   "cell_type": "code",
   "execution_count": 19,
   "id": "46b58a53",
   "metadata": {
    "ExecuteTime": {
     "end_time": "2022-08-07T12:14:32.155540Z",
     "start_time": "2022-08-07T12:14:32.139583Z"
    }
   },
   "outputs": [
    {
     "name": "stdout",
     "output_type": "stream",
     "text": [
      "Index(['campaign_id', 'sender', 'subject_len', 'body_len',\n",
      "       'mean_paragraph_len', 'day_of_week', 'is_weekend', 'times_of_day',\n",
      "       'category', 'product', 'no_of_CTA', 'mean_CTA_len', 'is_image',\n",
      "       'is_personalised', 'is_quote', 'is_timer', 'is_emoticons',\n",
      "       'is_discount', 'is_price', 'is_urgency', 'target_audience',\n",
      "       'click_rate'],\n",
      "      dtype='object')\n"
     ]
    }
   ],
   "source": [
    "pprint(train.columns[0:22])"
   ]
  },
  {
   "cell_type": "code",
   "execution_count": 20,
   "id": "9b8317a0",
   "metadata": {
    "ExecuteTime": {
     "end_time": "2022-08-07T12:14:32.373776Z",
     "start_time": "2022-08-07T12:14:32.356822Z"
    }
   },
   "outputs": [
    {
     "name": "stdout",
     "output_type": "stream",
     "text": [
      "Index(['sender_1', 'sender_2', 'sender_3', 'sender_7', 'sender_13',\n",
      "       'sender_22', 'sender_89', 'sender_181', 'sender_1559', 'times_of_day_0',\n",
      "       'times_of_day_1', 'times_of_day_2', 'is_image_0', 'is_image_1',\n",
      "       'is_emoticons_0', 'is_emoticons_1', 'is_price_0', 'is_price_1',\n",
      "       'day_of_week_0', 'day_of_week_1', 'day_of_week_2', 'day_of_week_3',\n",
      "       'day_of_week_4', 'day_of_week_5', 'day_of_week_6', 'is_weekend_0',\n",
      "       'is_weekend_1', 'category_0', 'category_1', 'category_2', 'category_3',\n",
      "       'category_4', 'category_5', 'category_6', 'category_7', 'category_8',\n",
      "       'category_9', 'category_10', 'category_11', 'category_12',\n",
      "       'category_13', 'category_14', 'category_15', 'product_0', 'product_1',\n",
      "       'product_2', 'product_3', 'product_4', 'product_5', 'product_6',\n",
      "       'product_7', 'product_8', 'product_9', 'product_10', 'product_11',\n",
      "       'product_12', 'product_13', 'product_14', 'product_15', 'product_16',\n",
      "       'product_17', 'product_18', 'product_19', 'product_20', 'product_21',\n",
      "       'product_22', 'product_23', 'product_24', 'product_25', 'product_26',\n",
      "       'product_27', 'product_28', 'product_29', 'product_31', 'product_32',\n",
      "       'product_33', 'product_34', 'product_35', 'product_36', 'product_37',\n",
      "       'product_38', 'product_39', 'product_40', 'product_41', 'product_42',\n",
      "       'product_43', 'is_personalised_0', 'is_personalised_1', 'is_quote_0',\n",
      "       'is_quote_1'],\n",
      "      dtype='object')\n"
     ]
    }
   ],
   "source": [
    "pprint(train.columns[22:])"
   ]
  },
  {
   "cell_type": "code",
   "execution_count": 21,
   "id": "8e14be6d",
   "metadata": {
    "ExecuteTime": {
     "end_time": "2022-08-07T12:14:32.776109Z",
     "start_time": "2022-08-07T12:14:32.771123Z"
    }
   },
   "outputs": [],
   "source": [
    "feature_columns = ['subject_len', 'body_len',\n",
    "       'mean_paragraph_len', 'no_of_CTA', 'mean_CTA_len', 'target_audience',\n",
    "              'is_urgency'] + train.columns[22:].tolist()\n",
    "\n",
    "target_column = 'click_rate'"
   ]
  },
  {
   "cell_type": "code",
   "execution_count": 22,
   "id": "83356c50",
   "metadata": {
    "ExecuteTime": {
     "end_time": "2022-08-07T12:14:34.906864Z",
     "start_time": "2022-08-07T12:14:34.900881Z"
    }
   },
   "outputs": [],
   "source": [
    "from sklearn.preprocessing import StandardScaler\n",
    "from sklearn.model_selection import train_test_split\n",
    "\n",
    "from lightgbm import LGBMRegressor as LGR\n",
    "from xgboost import XGBRegressor as XGR\n",
    "from pprint import pprint\n",
    "from sklearn.linear_model import LinearRegression as LR\n",
    "from sklearn.ensemble import RandomForestRegressor as RFR\n",
    "from sklearn.ensemble import GradientBoostingRegressor as GBR\n",
    "from sklearn.tree import DecisionTreeRegressor as DTR\n",
    "from sklearn.model_selection import GridSearchCV, RandomizedSearchCV\n",
    "\n",
    "import warnings\n",
    "warnings.filterwarnings(\"ignore\")\n",
    "\n",
    "from sklearn.metrics import r2_score"
   ]
  },
  {
   "cell_type": "code",
   "execution_count": 23,
   "id": "5a2975aa",
   "metadata": {
    "ExecuteTime": {
     "end_time": "2022-08-07T12:14:35.834555Z",
     "start_time": "2022-08-07T12:14:35.818594Z"
    }
   },
   "outputs": [],
   "source": [
    "## make the model as per specifications\n",
    "def make_model(xtr,ytr,model_type):\n",
    "    if model_type == 'GBR':\n",
    "        clf = GBR(random_state=42)\n",
    "    elif model_type == 'RFR':\n",
    "        clf = RFR(random_state=42)\n",
    "    elif model_type == 'LR':\n",
    "        clf = LR()\n",
    "    elif model_type == 'XGBOOST':\n",
    "        clf = XGR(random_state=42)\n",
    "    elif model_type == 'LIGHTGBM':\n",
    "        clf = LGR(random_state=42)\n",
    "    elif model_type == 'DTR':\n",
    "        clf = DTR()\n",
    "    \n",
    "    clf.fit(xtr,ytr)\n",
    "    return clf"
   ]
  },
  {
   "cell_type": "code",
   "execution_count": 24,
   "id": "b077cbdf",
   "metadata": {
    "ExecuteTime": {
     "end_time": "2022-08-07T12:14:36.190958Z",
     "start_time": "2022-08-07T12:14:36.178990Z"
    }
   },
   "outputs": [],
   "source": [
    "def get_basemodels(X_train, X_test, y_train, y_test):\n",
    "    \n",
    "    models = ['LR','GBR','LIGHTGBM', 'RFR', 'XGBOOST', 'DTR']\n",
    "    \n",
    "    model_names = []\n",
    "    trained_models = []\n",
    "    r2_train_scores = []\n",
    "    r2_test_scores = []\n",
    "    ## iterate over model type and the dependent variable\n",
    "    for model in models:\n",
    "        clf = make_model(X_train, y_train, model)\n",
    "        \n",
    "        y_train_predictions = clf.predict(X_train)\n",
    "        model_names.append(model)\n",
    "        trained_models.append(clf)\n",
    "        r2_train_scores.append(r2_score(y_train_predictions, y_train))\n",
    "        \n",
    "        y_test_predictions = clf.predict(X_test)\n",
    "        r2_test_scores.append(r2_score(y_test_predictions, y_test ))\n",
    "    ## collating results\n",
    "    error_df = pd.DataFrame()\n",
    "    error_df['model_type'] = model_names\n",
    "    error_df['trained_models'] = trained_models\n",
    "    error_df['train_r2_score'] = r2_train_scores\n",
    "    error_df['test_r2_score'] = r2_test_scores\n",
    "    \n",
    "    return trained_models, error_df"
   ]
  },
  {
   "cell_type": "code",
   "execution_count": 28,
   "id": "1c52fa15",
   "metadata": {
    "ExecuteTime": {
     "end_time": "2022-08-07T12:15:29.427908Z",
     "start_time": "2022-08-07T12:15:29.390009Z"
    }
   },
   "outputs": [
    {
     "ename": "ValueError",
     "evalue": "X has 187 features, but StandardScaler is expecting 97 features as input.",
     "output_type": "error",
     "traceback": [
      "\u001b[1;31m---------------------------------------------------------------------------\u001b[0m",
      "\u001b[1;31mValueError\u001b[0m                                Traceback (most recent call last)",
      "\u001b[1;32m~\\AppData\\Local\\Temp/ipykernel_2200/3731496449.py\u001b[0m in \u001b[0;36m<module>\u001b[1;34m\u001b[0m\n\u001b[0;32m      6\u001b[0m \u001b[0mX_train_scaled\u001b[0m \u001b[1;33m=\u001b[0m \u001b[0mscaler\u001b[0m\u001b[1;33m.\u001b[0m\u001b[0mfit_transform\u001b[0m\u001b[1;33m(\u001b[0m\u001b[0mX_train\u001b[0m\u001b[1;33m)\u001b[0m\u001b[1;33m\u001b[0m\u001b[1;33m\u001b[0m\u001b[0m\n\u001b[0;32m      7\u001b[0m \u001b[0mX_test_scaled\u001b[0m \u001b[1;33m=\u001b[0m \u001b[0mscaler\u001b[0m\u001b[1;33m.\u001b[0m\u001b[0mtransform\u001b[0m\u001b[1;33m(\u001b[0m\u001b[0mX_test\u001b[0m\u001b[1;33m)\u001b[0m\u001b[1;33m\u001b[0m\u001b[1;33m\u001b[0m\u001b[0m\n\u001b[1;32m----> 8\u001b[1;33m \u001b[0mX_new_test_scaled\u001b[0m \u001b[1;33m=\u001b[0m \u001b[0mscaler\u001b[0m\u001b[1;33m.\u001b[0m\u001b[0mtransform\u001b[0m\u001b[1;33m(\u001b[0m\u001b[0mtest\u001b[0m\u001b[1;33m[\u001b[0m\u001b[0mfeature_columns\u001b[0m\u001b[1;33m]\u001b[0m\u001b[1;33m)\u001b[0m\u001b[1;33m\u001b[0m\u001b[1;33m\u001b[0m\u001b[0m\n\u001b[0m",
      "\u001b[1;32m~\\anaconda3\\lib\\site-packages\\sklearn\\preprocessing\\_data.py\u001b[0m in \u001b[0;36mtransform\u001b[1;34m(self, X, copy)\u001b[0m\n\u001b[0;32m    881\u001b[0m \u001b[1;33m\u001b[0m\u001b[0m\n\u001b[0;32m    882\u001b[0m         \u001b[0mcopy\u001b[0m \u001b[1;33m=\u001b[0m \u001b[0mcopy\u001b[0m \u001b[1;32mif\u001b[0m \u001b[0mcopy\u001b[0m \u001b[1;32mis\u001b[0m \u001b[1;32mnot\u001b[0m \u001b[1;32mNone\u001b[0m \u001b[1;32melse\u001b[0m \u001b[0mself\u001b[0m\u001b[1;33m.\u001b[0m\u001b[0mcopy\u001b[0m\u001b[1;33m\u001b[0m\u001b[1;33m\u001b[0m\u001b[0m\n\u001b[1;32m--> 883\u001b[1;33m         X = self._validate_data(X, reset=False,\n\u001b[0m\u001b[0;32m    884\u001b[0m                                 \u001b[0maccept_sparse\u001b[0m\u001b[1;33m=\u001b[0m\u001b[1;34m'csr'\u001b[0m\u001b[1;33m,\u001b[0m \u001b[0mcopy\u001b[0m\u001b[1;33m=\u001b[0m\u001b[0mcopy\u001b[0m\u001b[1;33m,\u001b[0m\u001b[1;33m\u001b[0m\u001b[1;33m\u001b[0m\u001b[0m\n\u001b[0;32m    885\u001b[0m                                 \u001b[0mestimator\u001b[0m\u001b[1;33m=\u001b[0m\u001b[0mself\u001b[0m\u001b[1;33m,\u001b[0m \u001b[0mdtype\u001b[0m\u001b[1;33m=\u001b[0m\u001b[0mFLOAT_DTYPES\u001b[0m\u001b[1;33m,\u001b[0m\u001b[1;33m\u001b[0m\u001b[1;33m\u001b[0m\u001b[0m\n",
      "\u001b[1;32m~\\anaconda3\\lib\\site-packages\\sklearn\\base.py\u001b[0m in \u001b[0;36m_validate_data\u001b[1;34m(self, X, y, reset, validate_separately, **check_params)\u001b[0m\n\u001b[0;32m    435\u001b[0m \u001b[1;33m\u001b[0m\u001b[0m\n\u001b[0;32m    436\u001b[0m         \u001b[1;32mif\u001b[0m \u001b[0mcheck_params\u001b[0m\u001b[1;33m.\u001b[0m\u001b[0mget\u001b[0m\u001b[1;33m(\u001b[0m\u001b[1;34m'ensure_2d'\u001b[0m\u001b[1;33m,\u001b[0m \u001b[1;32mTrue\u001b[0m\u001b[1;33m)\u001b[0m\u001b[1;33m:\u001b[0m\u001b[1;33m\u001b[0m\u001b[1;33m\u001b[0m\u001b[0m\n\u001b[1;32m--> 437\u001b[1;33m             \u001b[0mself\u001b[0m\u001b[1;33m.\u001b[0m\u001b[0m_check_n_features\u001b[0m\u001b[1;33m(\u001b[0m\u001b[0mX\u001b[0m\u001b[1;33m,\u001b[0m \u001b[0mreset\u001b[0m\u001b[1;33m=\u001b[0m\u001b[0mreset\u001b[0m\u001b[1;33m)\u001b[0m\u001b[1;33m\u001b[0m\u001b[1;33m\u001b[0m\u001b[0m\n\u001b[0m\u001b[0;32m    438\u001b[0m \u001b[1;33m\u001b[0m\u001b[0m\n\u001b[0;32m    439\u001b[0m         \u001b[1;32mreturn\u001b[0m \u001b[0mout\u001b[0m\u001b[1;33m\u001b[0m\u001b[1;33m\u001b[0m\u001b[0m\n",
      "\u001b[1;32m~\\anaconda3\\lib\\site-packages\\sklearn\\base.py\u001b[0m in \u001b[0;36m_check_n_features\u001b[1;34m(self, X, reset)\u001b[0m\n\u001b[0;32m    363\u001b[0m \u001b[1;33m\u001b[0m\u001b[0m\n\u001b[0;32m    364\u001b[0m         \u001b[1;32mif\u001b[0m \u001b[0mn_features\u001b[0m \u001b[1;33m!=\u001b[0m \u001b[0mself\u001b[0m\u001b[1;33m.\u001b[0m\u001b[0mn_features_in_\u001b[0m\u001b[1;33m:\u001b[0m\u001b[1;33m\u001b[0m\u001b[1;33m\u001b[0m\u001b[0m\n\u001b[1;32m--> 365\u001b[1;33m             raise ValueError(\n\u001b[0m\u001b[0;32m    366\u001b[0m                 \u001b[1;34mf\"X has {n_features} features, but {self.__class__.__name__} \"\u001b[0m\u001b[1;33m\u001b[0m\u001b[1;33m\u001b[0m\u001b[0m\n\u001b[0;32m    367\u001b[0m                 f\"is expecting {self.n_features_in_} features as input.\")\n",
      "\u001b[1;31mValueError\u001b[0m: X has 187 features, but StandardScaler is expecting 97 features as input."
     ]
    }
   ],
   "source": [
    "X_train, X_test, y_train, y_test = train_test_split(train[feature_columns], train[target_column], \n",
    "                                    test_size=0.30, random_state=42)\n",
    "\n",
    "scaler = StandardScaler()\n",
    "\n",
    "X_train_scaled = scaler.fit_transform(X_train)\n",
    "X_test_scaled = scaler.transform(X_test)\n",
    "X_new_test_scaled = scaler.transform(test[feature_columns])"
   ]
  },
  {
   "cell_type": "code",
   "execution_count": 26,
   "id": "a9cc86ab",
   "metadata": {
    "ExecuteTime": {
     "end_time": "2022-08-07T12:14:39.075155Z",
     "start_time": "2022-08-07T12:14:37.109996Z"
    }
   },
   "outputs": [
    {
     "data": {
      "text/html": [
       "<div>\n",
       "<style scoped>\n",
       "    .dataframe tbody tr th:only-of-type {\n",
       "        vertical-align: middle;\n",
       "    }\n",
       "\n",
       "    .dataframe tbody tr th {\n",
       "        vertical-align: top;\n",
       "    }\n",
       "\n",
       "    .dataframe thead th {\n",
       "        text-align: right;\n",
       "    }\n",
       "</style>\n",
       "<table border=\"1\" class=\"dataframe\">\n",
       "  <thead>\n",
       "    <tr style=\"text-align: right;\">\n",
       "      <th></th>\n",
       "      <th>model_type</th>\n",
       "      <th>trained_models</th>\n",
       "      <th>train_r2_score</th>\n",
       "      <th>test_r2_score</th>\n",
       "    </tr>\n",
       "  </thead>\n",
       "  <tbody>\n",
       "    <tr>\n",
       "      <th>0</th>\n",
       "      <td>LR</td>\n",
       "      <td>LinearRegression()</td>\n",
       "      <td>-1.172825</td>\n",
       "      <td>-0.000332</td>\n",
       "    </tr>\n",
       "    <tr>\n",
       "      <th>1</th>\n",
       "      <td>GBR</td>\n",
       "      <td>([DecisionTreeRegressor(criterion='friedman_ms...</td>\n",
       "      <td>0.487294</td>\n",
       "      <td>-0.040180</td>\n",
       "    </tr>\n",
       "    <tr>\n",
       "      <th>2</th>\n",
       "      <td>LIGHTGBM</td>\n",
       "      <td>LGBMRegressor(random_state=42)</td>\n",
       "      <td>0.757420</td>\n",
       "      <td>0.412647</td>\n",
       "    </tr>\n",
       "    <tr>\n",
       "      <th>3</th>\n",
       "      <td>RFR</td>\n",
       "      <td>(DecisionTreeRegressor(max_features='auto', ra...</td>\n",
       "      <td>0.893201</td>\n",
       "      <td>0.258049</td>\n",
       "    </tr>\n",
       "    <tr>\n",
       "      <th>4</th>\n",
       "      <td>XGBOOST</td>\n",
       "      <td>XGBRegressor(base_score=0.5, booster='gbtree',...</td>\n",
       "      <td>0.994734</td>\n",
       "      <td>0.324036</td>\n",
       "    </tr>\n",
       "    <tr>\n",
       "      <th>5</th>\n",
       "      <td>DTR</td>\n",
       "      <td>DecisionTreeRegressor()</td>\n",
       "      <td>1.000000</td>\n",
       "      <td>0.213711</td>\n",
       "    </tr>\n",
       "  </tbody>\n",
       "</table>\n",
       "</div>"
      ],
      "text/plain": [
       "  model_type                                     trained_models  \\\n",
       "0         LR                                 LinearRegression()   \n",
       "1        GBR  ([DecisionTreeRegressor(criterion='friedman_ms...   \n",
       "2   LIGHTGBM                     LGBMRegressor(random_state=42)   \n",
       "3        RFR  (DecisionTreeRegressor(max_features='auto', ra...   \n",
       "4    XGBOOST  XGBRegressor(base_score=0.5, booster='gbtree',...   \n",
       "5        DTR                            DecisionTreeRegressor()   \n",
       "\n",
       "   train_r2_score  test_r2_score  \n",
       "0       -1.172825      -0.000332  \n",
       "1        0.487294      -0.040180  \n",
       "2        0.757420       0.412647  \n",
       "3        0.893201       0.258049  \n",
       "4        0.994734       0.324036  \n",
       "5        1.000000       0.213711  "
      ]
     },
     "execution_count": 26,
     "metadata": {},
     "output_type": "execute_result"
    }
   ],
   "source": [
    "models, r2_scores = get_basemodels(X_train_scaled, X_test_scaled, y_train, y_test)\n",
    "r2_scores"
   ]
  },
  {
   "cell_type": "code",
   "execution_count": 27,
   "id": "6b74fe3e",
   "metadata": {
    "ExecuteTime": {
     "end_time": "2022-08-07T12:14:39.106072Z",
     "start_time": "2022-08-07T12:14:39.076153Z"
    }
   },
   "outputs": [
    {
     "data": {
      "text/html": [
       "<div>\n",
       "<style scoped>\n",
       "    .dataframe tbody tr th:only-of-type {\n",
       "        vertical-align: middle;\n",
       "    }\n",
       "\n",
       "    .dataframe tbody tr th {\n",
       "        vertical-align: top;\n",
       "    }\n",
       "\n",
       "    .dataframe thead th {\n",
       "        text-align: right;\n",
       "    }\n",
       "</style>\n",
       "<table border=\"1\" class=\"dataframe\">\n",
       "  <thead>\n",
       "    <tr style=\"text-align: right;\">\n",
       "      <th></th>\n",
       "      <th>subject_len</th>\n",
       "      <th>body_len</th>\n",
       "      <th>mean_paragraph_len</th>\n",
       "      <th>no_of_CTA</th>\n",
       "      <th>mean_CTA_len</th>\n",
       "      <th>target_audience</th>\n",
       "      <th>is_urgency</th>\n",
       "      <th>sender_1</th>\n",
       "      <th>sender_1</th>\n",
       "      <th>sender_2</th>\n",
       "      <th>...</th>\n",
       "      <th>product_43</th>\n",
       "      <th>product_43</th>\n",
       "      <th>is_personalised_0</th>\n",
       "      <th>is_personalised_0</th>\n",
       "      <th>is_personalised_1</th>\n",
       "      <th>is_personalised_1</th>\n",
       "      <th>is_quote_0</th>\n",
       "      <th>is_quote_0</th>\n",
       "      <th>is_quote_1</th>\n",
       "      <th>is_quote_1</th>\n",
       "    </tr>\n",
       "  </thead>\n",
       "  <tbody>\n",
       "    <tr>\n",
       "      <th>0</th>\n",
       "      <td>76</td>\n",
       "      <td>10439</td>\n",
       "      <td>39</td>\n",
       "      <td>3</td>\n",
       "      <td>29</td>\n",
       "      <td>14</td>\n",
       "      <td>0</td>\n",
       "      <td>0</td>\n",
       "      <td>0</td>\n",
       "      <td>0</td>\n",
       "      <td>...</td>\n",
       "      <td>0</td>\n",
       "      <td>0</td>\n",
       "      <td>1</td>\n",
       "      <td>1</td>\n",
       "      <td>0</td>\n",
       "      <td>0</td>\n",
       "      <td>1</td>\n",
       "      <td>1</td>\n",
       "      <td>0</td>\n",
       "      <td>0</td>\n",
       "    </tr>\n",
       "    <tr>\n",
       "      <th>1</th>\n",
       "      <td>54</td>\n",
       "      <td>2570</td>\n",
       "      <td>256</td>\n",
       "      <td>0</td>\n",
       "      <td>22</td>\n",
       "      <td>10</td>\n",
       "      <td>0</td>\n",
       "      <td>0</td>\n",
       "      <td>0</td>\n",
       "      <td>0</td>\n",
       "      <td>...</td>\n",
       "      <td>0</td>\n",
       "      <td>0</td>\n",
       "      <td>1</td>\n",
       "      <td>1</td>\n",
       "      <td>0</td>\n",
       "      <td>0</td>\n",
       "      <td>1</td>\n",
       "      <td>1</td>\n",
       "      <td>0</td>\n",
       "      <td>0</td>\n",
       "    </tr>\n",
       "    <tr>\n",
       "      <th>2</th>\n",
       "      <td>59</td>\n",
       "      <td>12801</td>\n",
       "      <td>16</td>\n",
       "      <td>3</td>\n",
       "      <td>23</td>\n",
       "      <td>16</td>\n",
       "      <td>0</td>\n",
       "      <td>0</td>\n",
       "      <td>0</td>\n",
       "      <td>0</td>\n",
       "      <td>...</td>\n",
       "      <td>0</td>\n",
       "      <td>0</td>\n",
       "      <td>1</td>\n",
       "      <td>1</td>\n",
       "      <td>0</td>\n",
       "      <td>0</td>\n",
       "      <td>0</td>\n",
       "      <td>0</td>\n",
       "      <td>1</td>\n",
       "      <td>1</td>\n",
       "    </tr>\n",
       "    <tr>\n",
       "      <th>3</th>\n",
       "      <td>74</td>\n",
       "      <td>11037</td>\n",
       "      <td>30</td>\n",
       "      <td>4</td>\n",
       "      <td>24</td>\n",
       "      <td>10</td>\n",
       "      <td>0</td>\n",
       "      <td>0</td>\n",
       "      <td>0</td>\n",
       "      <td>0</td>\n",
       "      <td>...</td>\n",
       "      <td>0</td>\n",
       "      <td>0</td>\n",
       "      <td>1</td>\n",
       "      <td>1</td>\n",
       "      <td>0</td>\n",
       "      <td>0</td>\n",
       "      <td>1</td>\n",
       "      <td>1</td>\n",
       "      <td>0</td>\n",
       "      <td>0</td>\n",
       "    </tr>\n",
       "    <tr>\n",
       "      <th>4</th>\n",
       "      <td>80</td>\n",
       "      <td>10011</td>\n",
       "      <td>27</td>\n",
       "      <td>3</td>\n",
       "      <td>31</td>\n",
       "      <td>14</td>\n",
       "      <td>0</td>\n",
       "      <td>0</td>\n",
       "      <td>0</td>\n",
       "      <td>0</td>\n",
       "      <td>...</td>\n",
       "      <td>0</td>\n",
       "      <td>0</td>\n",
       "      <td>1</td>\n",
       "      <td>1</td>\n",
       "      <td>0</td>\n",
       "      <td>0</td>\n",
       "      <td>0</td>\n",
       "      <td>0</td>\n",
       "      <td>1</td>\n",
       "      <td>1</td>\n",
       "    </tr>\n",
       "    <tr>\n",
       "      <th>...</th>\n",
       "      <td>...</td>\n",
       "      <td>...</td>\n",
       "      <td>...</td>\n",
       "      <td>...</td>\n",
       "      <td>...</td>\n",
       "      <td>...</td>\n",
       "      <td>...</td>\n",
       "      <td>...</td>\n",
       "      <td>...</td>\n",
       "      <td>...</td>\n",
       "      <td>...</td>\n",
       "      <td>...</td>\n",
       "      <td>...</td>\n",
       "      <td>...</td>\n",
       "      <td>...</td>\n",
       "      <td>...</td>\n",
       "      <td>...</td>\n",
       "      <td>...</td>\n",
       "      <td>...</td>\n",
       "      <td>...</td>\n",
       "      <td>...</td>\n",
       "    </tr>\n",
       "    <tr>\n",
       "      <th>1883</th>\n",
       "      <td>88</td>\n",
       "      <td>1451</td>\n",
       "      <td>75</td>\n",
       "      <td>0</td>\n",
       "      <td>22</td>\n",
       "      <td>10</td>\n",
       "      <td>0</td>\n",
       "      <td>0</td>\n",
       "      <td>0</td>\n",
       "      <td>0</td>\n",
       "      <td>...</td>\n",
       "      <td>0</td>\n",
       "      <td>0</td>\n",
       "      <td>1</td>\n",
       "      <td>1</td>\n",
       "      <td>0</td>\n",
       "      <td>0</td>\n",
       "      <td>0</td>\n",
       "      <td>0</td>\n",
       "      <td>1</td>\n",
       "      <td>1</td>\n",
       "    </tr>\n",
       "    <tr>\n",
       "      <th>1884</th>\n",
       "      <td>58</td>\n",
       "      <td>10537</td>\n",
       "      <td>40</td>\n",
       "      <td>5</td>\n",
       "      <td>27</td>\n",
       "      <td>11</td>\n",
       "      <td>0</td>\n",
       "      <td>0</td>\n",
       "      <td>0</td>\n",
       "      <td>0</td>\n",
       "      <td>...</td>\n",
       "      <td>0</td>\n",
       "      <td>0</td>\n",
       "      <td>1</td>\n",
       "      <td>1</td>\n",
       "      <td>0</td>\n",
       "      <td>0</td>\n",
       "      <td>1</td>\n",
       "      <td>1</td>\n",
       "      <td>0</td>\n",
       "      <td>0</td>\n",
       "    </tr>\n",
       "    <tr>\n",
       "      <th>1885</th>\n",
       "      <td>89</td>\n",
       "      <td>11050</td>\n",
       "      <td>26</td>\n",
       "      <td>4</td>\n",
       "      <td>28</td>\n",
       "      <td>6</td>\n",
       "      <td>0</td>\n",
       "      <td>0</td>\n",
       "      <td>0</td>\n",
       "      <td>0</td>\n",
       "      <td>...</td>\n",
       "      <td>0</td>\n",
       "      <td>0</td>\n",
       "      <td>1</td>\n",
       "      <td>1</td>\n",
       "      <td>0</td>\n",
       "      <td>0</td>\n",
       "      <td>1</td>\n",
       "      <td>1</td>\n",
       "      <td>0</td>\n",
       "      <td>0</td>\n",
       "    </tr>\n",
       "    <tr>\n",
       "      <th>1886</th>\n",
       "      <td>58</td>\n",
       "      <td>10537</td>\n",
       "      <td>40</td>\n",
       "      <td>5</td>\n",
       "      <td>27</td>\n",
       "      <td>16</td>\n",
       "      <td>0</td>\n",
       "      <td>0</td>\n",
       "      <td>0</td>\n",
       "      <td>0</td>\n",
       "      <td>...</td>\n",
       "      <td>0</td>\n",
       "      <td>0</td>\n",
       "      <td>1</td>\n",
       "      <td>1</td>\n",
       "      <td>0</td>\n",
       "      <td>0</td>\n",
       "      <td>1</td>\n",
       "      <td>1</td>\n",
       "      <td>0</td>\n",
       "      <td>0</td>\n",
       "    </tr>\n",
       "    <tr>\n",
       "      <th>1887</th>\n",
       "      <td>89</td>\n",
       "      <td>11050</td>\n",
       "      <td>26</td>\n",
       "      <td>4</td>\n",
       "      <td>28</td>\n",
       "      <td>10</td>\n",
       "      <td>0</td>\n",
       "      <td>0</td>\n",
       "      <td>0</td>\n",
       "      <td>0</td>\n",
       "      <td>...</td>\n",
       "      <td>0</td>\n",
       "      <td>0</td>\n",
       "      <td>1</td>\n",
       "      <td>1</td>\n",
       "      <td>0</td>\n",
       "      <td>0</td>\n",
       "      <td>1</td>\n",
       "      <td>1</td>\n",
       "      <td>0</td>\n",
       "      <td>0</td>\n",
       "    </tr>\n",
       "  </tbody>\n",
       "</table>\n",
       "<p>1888 rows × 187 columns</p>\n",
       "</div>"
      ],
      "text/plain": [
       "      subject_len  body_len  mean_paragraph_len  no_of_CTA  mean_CTA_len  \\\n",
       "0              76     10439                  39          3            29   \n",
       "1              54      2570                 256          0            22   \n",
       "2              59     12801                  16          3            23   \n",
       "3              74     11037                  30          4            24   \n",
       "4              80     10011                  27          3            31   \n",
       "...           ...       ...                 ...        ...           ...   \n",
       "1883           88      1451                  75          0            22   \n",
       "1884           58     10537                  40          5            27   \n",
       "1885           89     11050                  26          4            28   \n",
       "1886           58     10537                  40          5            27   \n",
       "1887           89     11050                  26          4            28   \n",
       "\n",
       "      target_audience  is_urgency  sender_1  sender_1  sender_2  ...  \\\n",
       "0                  14           0         0         0         0  ...   \n",
       "1                  10           0         0         0         0  ...   \n",
       "2                  16           0         0         0         0  ...   \n",
       "3                  10           0         0         0         0  ...   \n",
       "4                  14           0         0         0         0  ...   \n",
       "...               ...         ...       ...       ...       ...  ...   \n",
       "1883               10           0         0         0         0  ...   \n",
       "1884               11           0         0         0         0  ...   \n",
       "1885                6           0         0         0         0  ...   \n",
       "1886               16           0         0         0         0  ...   \n",
       "1887               10           0         0         0         0  ...   \n",
       "\n",
       "      product_43  product_43  is_personalised_0  is_personalised_0  \\\n",
       "0              0           0                  1                  1   \n",
       "1              0           0                  1                  1   \n",
       "2              0           0                  1                  1   \n",
       "3              0           0                  1                  1   \n",
       "4              0           0                  1                  1   \n",
       "...          ...         ...                ...                ...   \n",
       "1883           0           0                  1                  1   \n",
       "1884           0           0                  1                  1   \n",
       "1885           0           0                  1                  1   \n",
       "1886           0           0                  1                  1   \n",
       "1887           0           0                  1                  1   \n",
       "\n",
       "      is_personalised_1  is_personalised_1  is_quote_0  is_quote_0  \\\n",
       "0                     0                  0           1           1   \n",
       "1                     0                  0           1           1   \n",
       "2                     0                  0           0           0   \n",
       "3                     0                  0           1           1   \n",
       "4                     0                  0           0           0   \n",
       "...                 ...                ...         ...         ...   \n",
       "1883                  0                  0           0           0   \n",
       "1884                  0                  0           1           1   \n",
       "1885                  0                  0           1           1   \n",
       "1886                  0                  0           1           1   \n",
       "1887                  0                  0           1           1   \n",
       "\n",
       "      is_quote_1  is_quote_1  \n",
       "0              0           0  \n",
       "1              0           0  \n",
       "2              1           1  \n",
       "3              0           0  \n",
       "4              1           1  \n",
       "...          ...         ...  \n",
       "1883           1           1  \n",
       "1884           0           0  \n",
       "1885           0           0  \n",
       "1886           0           0  \n",
       "1887           0           0  \n",
       "\n",
       "[1888 rows x 187 columns]"
      ]
     },
     "execution_count": 27,
     "metadata": {},
     "output_type": "execute_result"
    }
   ],
   "source": [
    "test[feature_columns]"
   ]
  },
  {
   "cell_type": "code",
   "execution_count": null,
   "id": "a3d6c91f",
   "metadata": {
    "ExecuteTime": {
     "end_time": "2022-08-06T21:05:15.473434Z",
     "start_time": "2022-08-06T21:05:15.442518Z"
    }
   },
   "outputs": [],
   "source": [
    "predictions = pd.read_csv('sample_submission.csv')\n",
    "predictions['click_rate'] = models[-2].predict(X_unknown_scaled)\n",
    "predictions.to_csv('2022 08 07 submission_v2.csv', index=False)"
   ]
  },
  {
   "cell_type": "code",
   "execution_count": null,
   "id": "347093c6",
   "metadata": {
    "ExecuteTime": {
     "end_time": "2022-08-06T20:03:29.857537Z",
     "start_time": "2022-08-06T20:03:29.841579Z"
    }
   },
   "outputs": [],
   "source": [
    "import keras\n",
    "from keras.models import Sequential \n",
    "from keras.layers import Dense\n",
    "from keras.layers import LeakyReLU, PReLU, ELU\n",
    "from keras.layers import Dropout"
   ]
  },
  {
   "cell_type": "code",
   "execution_count": null,
   "id": "18dbb300",
   "metadata": {
    "ExecuteTime": {
     "end_time": "2022-08-06T20:10:43.742897Z",
     "start_time": "2022-08-06T20:10:43.686874Z"
    }
   },
   "outputs": [],
   "source": [
    "model = Sequential()\n",
    "model.add(Dense(200, input_dim=17, activation='relu'))\n",
    "model.add(Dense(200, activation='relu'))\n",
    "model.add(Dense(200, activation='relu'))\n",
    "model.add(Dense(1, activation='linear'))"
   ]
  },
  {
   "cell_type": "code",
   "execution_count": null,
   "id": "a07c0fa7",
   "metadata": {
    "ExecuteTime": {
     "end_time": "2022-08-06T20:13:09.171299Z",
     "start_time": "2022-08-06T20:13:09.159331Z"
    }
   },
   "outputs": [],
   "source": [
    "keras.optimizers.Adam(lr=0.0001, beta_1=0.9, beta_2=0.999, amsgrad=False)\n",
    "model.compile(loss='mean_squared_error', optimizer='RMSprop', metrics=['mean_absolute_percentage_error'])"
   ]
  },
  {
   "cell_type": "code",
   "execution_count": null,
   "id": "6f5c9b8c",
   "metadata": {
    "ExecuteTime": {
     "end_time": "2022-08-06T20:13:09.856548Z",
     "start_time": "2022-08-06T20:13:09.835511Z"
    }
   },
   "outputs": [],
   "source": [
    "#To visualize neural network\n",
    "model.summary()"
   ]
  },
  {
   "cell_type": "code",
   "execution_count": null,
   "id": "4f2c7aea",
   "metadata": {
    "ExecuteTime": {
     "end_time": "2022-08-06T20:18:10.975676Z",
     "start_time": "2022-08-06T20:14:11.994771Z"
    }
   },
   "outputs": [],
   "source": [
    "history = model.fit(X_train, y_train, epochs=2000, batch_size=32,validation_split=0.15,validation_data=None,verbose=1)"
   ]
  },
  {
   "cell_type": "code",
   "execution_count": null,
   "id": "1c250d31",
   "metadata": {
    "ExecuteTime": {
     "end_time": "2022-08-06T20:07:18.632881Z",
     "start_time": "2022-08-06T20:07:16.852580Z"
    }
   },
   "outputs": [],
   "source": [
    "regressor = Sequential()\n",
    "\n",
    "regressor.add(Dense(units=50, activation='relu', input_dim=17))\n",
    "\n",
    "regressor.add(Dense(units=25, activation='relu'))\n",
    "\n",
    "regressor.add(Dense(units=50, activation='relu'))\n",
    "\n",
    "regressor.add(Dense(units=1 ))\n",
    "\n",
    "regressor.compile(loss=r2_score, optimizer = 'Adamax')\n",
    "\n",
    "model_history = regressor.fit(X_train_scaled, y_train,\n",
    "                             validation_split=0.20, batch_size=10, epochs=1000)\n"
   ]
  },
  {
   "cell_type": "code",
   "execution_count": null,
   "id": "0134d4c9",
   "metadata": {},
   "outputs": [],
   "source": []
  }
 ],
 "metadata": {
  "kernelspec": {
   "display_name": "ctr",
   "language": "python",
   "name": "ctr"
  },
  "language_info": {
   "codemirror_mode": {
    "name": "ipython",
    "version": 3
   },
   "file_extension": ".py",
   "mimetype": "text/x-python",
   "name": "python",
   "nbconvert_exporter": "python",
   "pygments_lexer": "ipython3",
   "version": "3.9.7"
  },
  "toc": {
   "base_numbering": 1,
   "nav_menu": {},
   "number_sections": true,
   "sideBar": true,
   "skip_h1_title": false,
   "title_cell": "Table of Contents",
   "title_sidebar": "Contents",
   "toc_cell": false,
   "toc_position": {},
   "toc_section_display": true,
   "toc_window_display": false
  }
 },
 "nbformat": 4,
 "nbformat_minor": 5
}
